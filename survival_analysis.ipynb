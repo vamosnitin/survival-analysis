{
 "cells": [
  {
   "cell_type": "markdown",
   "metadata": {},
   "source": [
    "# Survival Analysis with the Lung Cancer Dataset\n",
    "This notebook demonstrates survival analysis using the classic lung cancer dataset."
   ]
  },
  {
   "cell_type": "code",
   "execution_count": null,
   "metadata": {},
   "outputs": [],
   "source": [
    "import pandas as pd\n",
    "from lifelines import KaplanMeierFitter\n",
    "import matplotlib.pyplot as plt\n",
    "\n",
    "# Load the lung cancer dataset from lifelines\n",
    "from lifelines.datasets import load_rossi\n",
    "lung = pd.read_csv(\"https://vincentarelbundock.github.io/Rdatasets/csv/survival/lung.csv\")\n",
    "lung = lung.drop(columns=['Unnamed: 0'])\n",
    "lung.head()"
   ]
  },
  {
   "cell_type": "markdown",
   "metadata": {},
   "source": [
    "## Data Overview\n",
    "Let's look at the first few rows:"
   ]
  },
  {
   "cell_type": "code",
   "execution_count": null,
   "metadata": {},
   "outputs": [],
   "source": [
    "lung.info()"
   ]
  },
  {
   "cell_type": "markdown",
   "metadata": {},
   "source": [
    "## Kaplan-Meier Survival Curve\n",
    "We'll fit a Kaplan-Meier estimator to visualize the survival function."
   ]
  },
  {
   "cell_type": "code",
   "execution_count": null,
   "metadata": {},
   "outputs": [],
   "source": [
    "kmf = KaplanMeierFitter()\n",
    "T = lung['time']\n",
    "E = lung['status'] == 2  # 1=censored, 2=dead in this dataset\n",
    "\n",
    "kmf.fit(T, event_observed=E)\n",
    "kmf.plot_survival_function()\n",
    "plt.title('Kaplan-Meier Survival Curve (Lung Cancer)')\n",
    "plt.xlabel('Time (days)')\n",
    "plt.ylabel('Survival Probability')\n",
    "plt.show()"
   ]
  },
  {
   "cell_type": "markdown",
   "metadata": {},
   "source": [
    "## Group Comparison\n",
    "Let's compare survival between males and females."
   ]
  },
  {
   "cell_type": "code",
   "execution_count": null,
   "metadata": {},
   "outputs": [],
   "source": [
    "for gender, grouped_df in lung.groupby('sex'):\n",
    "    label = 'Male' if gender == 1 else 'Female'\n",
    "    kmf.fit(grouped_df['time'], event_observed=grouped_df['status'] == 2, label=label)\n",
    "    kmf.plot_survival_function()\n",
    "plt.title('Survival Curves by Gender')\n",
    "plt.xlabel('Time (days)')\n",
    "plt.ylabel('Survival Probability')\n",
    "plt.legend()\n",
    "plt.show()"
   ]
  }
 ],
 "metadata": {
  "kernelspec": {
   "display_name": "Python 3",
   "language": "python",
   "name": "python3"
  },
  "language_info": {
   "name": "python",
   "version": "3.9"
  }
 },
 "nbformat": 4,
 "nbformat_minor": 2
}
